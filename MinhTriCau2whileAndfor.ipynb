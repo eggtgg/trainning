{
  "nbformat": 4,
  "nbformat_minor": 0,
  "metadata": {
    "colab": {
      "name": "MinhTriCau2whileAndfor.ipynb",
      "provenance": [],
      "authorship_tag": "ABX9TyPJYohUlUxYmChM+BnluvuS",
      "include_colab_link": true
    },
    "kernelspec": {
      "name": "python3",
      "display_name": "Python 3"
    }
  },
  "cells": [
    {
      "cell_type": "markdown",
      "metadata": {
        "id": "view-in-github",
        "colab_type": "text"
      },
      "source": [
        "<a href=\"https://colab.research.google.com/github/eggtgg/trainning/blob/main/MinhTriCau2whileAndfor.ipynb\" target=\"_parent\"><img src=\"https://colab.research.google.com/assets/colab-badge.svg\" alt=\"Open In Colab\"/></a>"
      ]
    },
    {
      "cell_type": "markdown",
      "metadata": {
        "id": "vvCBJNCZN0XR"
      },
      "source": [
        " Câu 2: Hãy chuyển một vòng lặp xác định từ while sang for: Viết chương trình lặp giải phương trình bậc nhất n lần với các tham số nhập vào từ bàn phím."
      ]
    },
    {
      "cell_type": "markdown",
      "metadata": {
        "id": "KktRG3xZOVbJ"
      },
      "source": [
        "Đối với while:"
      ]
    },
    {
      "cell_type": "code",
      "metadata": {
        "colab": {
          "base_uri": "https://localhost:8080/"
        },
        "id": "0aV25phfJhFM",
        "outputId": "7959be36-ad78-4390-8dc9-52be46837648"
      },
      "source": [
        " \n",
        "print (\" giải pt bậc nhất ax+b=0\")\n",
        "n= int(input (\"nhập số pt cần gải: \"))\n",
        "while n >0:\n",
        "    a=float (input (\"a= \"))\n",
        "    b=float (input (\"b= \"))\n",
        "    print (\"=> x= \",-b/a)\n",
        "    n= n-1"
      ],
      "execution_count": 13,
      "outputs": [
        {
          "output_type": "stream",
          "text": [
            " giải pt bậc nhất ax+b=0\n",
            "nhập số pt cần gải: 2\n",
            "a= 1\n",
            "b= 3\n",
            "=> x=  -3.0\n",
            "a= 2\n",
            "b= 1\n",
            "=> x=  -0.5\n"
          ],
          "name": "stdout"
        }
      ]
    },
    {
      "cell_type": "markdown",
      "metadata": {
        "id": "FHphaGDWObfx"
      },
      "source": [
        "Chuyển sang for:"
      ]
    },
    {
      "cell_type": "code",
      "metadata": {
        "colab": {
          "base_uri": "https://localhost:8080/"
        },
        "id": "fzZjF3KAMgSM",
        "outputId": "3ecf49e2-c29f-4128-f521-aac19ce8ca0d"
      },
      "source": [
        " print (\" giải pt bậc nhất ax+b=0\")\n",
        "n= int(input (\"nhập số pt cần gải: \"))\n",
        "for i in range (n):\n",
        "    a=float (input (\"a= \"))\n",
        "    b=float (input (\"b= \"))\n",
        "    print (\"=> x= \",-b/a)"
      ],
      "execution_count": 12,
      "outputs": [
        {
          "output_type": "stream",
          "text": [
            " giải pt bậc nhất ax+b=0\n",
            "nhập số pt cần gải: 2\n",
            "a= 3\n",
            "b= 6\n",
            "=> x=  -2.0\n",
            "a= 3\n",
            "b= 3\n",
            "=> x=  -1.0\n"
          ],
          "name": "stdout"
        }
      ]
    }
  ]
}