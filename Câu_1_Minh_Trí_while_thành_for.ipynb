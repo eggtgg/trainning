{
  "nbformat": 4,
  "nbformat_minor": 0,
  "metadata": {
    "colab": {
      "name": "Câu 1: Minh Trí while thành for.ipynb",
      "provenance": [],
      "collapsed_sections": [],
      "authorship_tag": "ABX9TyN36vFwb0AKq69pN7qJLzFe",
      "include_colab_link": true
    },
    "kernelspec": {
      "name": "python3",
      "display_name": "Python 3"
    }
  },
  "cells": [
    {
      "cell_type": "markdown",
      "metadata": {
        "id": "view-in-github",
        "colab_type": "text"
      },
      "source": [
        "<a href=\"https://colab.research.google.com/github/eggtgg/trainning/blob/main/C%C3%A2u_1_Minh_Tr%C3%AD_while_th%C3%A0nh_for.ipynb\" target=\"_parent\"><img src=\"https://colab.research.google.com/assets/colab-badge.svg\" alt=\"Open In Colab\"/></a>"
      ]
    },
    {
      "cell_type": "markdown",
      "metadata": {
        "id": "A5GX3EUHAmyG"
      },
      "source": [
        "Câu 1: cách chuyển while sang for - Minh Trí"
      ]
    },
    {
      "cell_type": "markdown",
      "metadata": {
        "id": "I6L8pRE9BZ_P"
      },
      "source": [
        " Có thể chuyển câu lệnh lặp không xác định bằng vòng lặp While sang vòng lặp For."
      ]
    },
    {
      "cell_type": "markdown",
      "metadata": {
        "id": "_1LoWXIVBsQn"
      },
      "source": [
        "Trong lệnh for: Cho biến i chạy đến một số lớn ví dụ: 100, 1000.\n",
        "Sử dụng lệnh break để ngắt vòng lặp for khi điều kiện thỏa mãn."
      ]
    },
    {
      "cell_type": "markdown",
      "metadata": {
        "id": "ZBAfiYrACsnW"
      },
      "source": [
        "Ta cùng đi vào ví dụ: viết một chương trình: Nhập vào một số n nguyên cho đến khi giá trị mà n nhận được >=10."
      ]
    },
    {
      "cell_type": "markdown",
      "metadata": {
        "id": "WIYMpuljBGcO"
      },
      "source": [
        " Đối với vòng lặp while: chúng ta sẽ tiến hành như sau:"
      ]
    },
    {
      "cell_type": "code",
      "metadata": {
        "colab": {
          "base_uri": "https://localhost:8080/"
        },
        "id": "90uG6bqWAwVe",
        "outputId": "b895c3bc-f8fe-41e4-e04a-d9836c66044e"
      },
      "source": [
        "n=1\n",
        "while n < 10:\n",
        "    n= int (input (\"nhập n: \"))"
      ],
      "execution_count": null,
      "outputs": [
        {
          "output_type": "stream",
          "text": [
            "nhập n: 2\n",
            "nhập n: 3\n",
            "nhập n: 5\n",
            "nhập n: 10\n"
          ],
          "name": "stdout"
        }
      ]
    },
    {
      "cell_type": "markdown",
      "metadata": {
        "id": "vFH9IiQPDkfI"
      },
      "source": [
        "Chuyển sang for: ta thực hiện:"
      ]
    },
    {
      "cell_type": "code",
      "metadata": {
        "id": "X0Z09mIgEYkl",
        "colab": {
          "base_uri": "https://localhost:8080/"
        },
        "outputId": "15e3b54f-14a0-44b1-f4dc-c323e4764951"
      },
      "source": [
        "for i in range (10):\n",
        "    n= int (input ('nhập n: '))\n",
        "    if n>=10:\n",
        "        break"
      ],
      "execution_count": null,
      "outputs": [
        {
          "output_type": "stream",
          "text": [
            "nhập n: 1\n",
            "nhập n: 3\n",
            "nhập n: 11\n"
          ],
          "name": "stdout"
        }
      ]
    },
    {
      "cell_type": "markdown",
      "metadata": {
        "id": "uk4wGwYCDucj"
      },
      "source": [
        "Nhận thấy nếu số lần nhập không quá giá trị trong range (), thì nó có thể dùng giống như lệnh lặp while. Có thể dùng trong bài toán \"user name password\" để giới hạn số lần gõ sai tài khoản-mật khẩu."
      ]
    }
  ]
}